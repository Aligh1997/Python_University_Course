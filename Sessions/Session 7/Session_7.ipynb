{
 "cells": [
  {
   "cell_type": "markdown",
   "metadata": {
    "id": "avY__a4ioQSJ"
   },
   "source": [
    "# Python Programming Essentials Course"
   ]
  },
  {
   "cell_type": "markdown",
   "metadata": {
    "id": "h3qn31DqoXVg"
   },
   "source": [
    "👨🏻‍🏫 Instructor: **Ali Ghafari**\n",
    "\n",
    "📅 Date: *24/11/2024*"
   ]
  },
  {
   "cell_type": "markdown",
   "metadata": {
    "id": "Ty_JWftfpFNf"
   },
   "source": [
    "## Session 7"
   ]
  },
  {
   "cell_type": "markdown",
   "metadata": {},
   "source": [
    "Table of Content\n",
    "*   Creating Virtual Environment\n",
    "*   Activating Virtual Environment\n",
    "*   Installing Libraries using pip\n",
    "*   Importing Libraries"
   ]
  },
  {
   "cell_type": "markdown",
   "metadata": {},
   "source": [
    "## Creating Virtual Environment"
   ]
  },
  {
   "cell_type": "markdown",
   "metadata": {},
   "source": [
    "Steps taken to create a virtual environment using *venv*:\n",
    "\n",
    "1.  Create a folder for your project (e.g., *SampleProject*).\n",
    "2.  Using the *Command Prompt* or *PowerShell*, change directory to the directory of the project folder:\n",
    "```bash\n",
    "cd project_directory\n",
    "```\n",
    "3.  Create a virtual environment (e.g., *sample-project*):\n",
    "```bash\n",
    "python -m venv sample-project\n",
    "```"
   ]
  },
  {
   "cell_type": "markdown",
   "metadata": {},
   "source": [
    "## Activating Virtual Environment"
   ]
  },
  {
   "cell_type": "markdown",
   "metadata": {},
   "source": [
    "Activate the virtual environment using the following command:\n",
    "```bash\n",
    "sample-project\\Scripts\\activate\n",
    "```"
   ]
  },
  {
   "cell_type": "markdown",
   "metadata": {},
   "source": [
    "## Installing Libraries using pip"
   ]
  },
  {
   "cell_type": "markdown",
   "metadata": {},
   "source": [
    "-   Check for the installed libraries:\n",
    "```bash\n",
    "pip list\n",
    "```\n",
    "-   Install additional libraries using pip (e.g., *Numpy*):\n",
    "```bash\n",
    "pip install numpy\n",
    "```"
   ]
  },
  {
   "cell_type": "markdown",
   "metadata": {},
   "source": [
    "List of the libraries essential for the rest of the course:\n",
    "-   numpy\n",
    "-   matplotlib\n",
    "-   scikit-image\n",
    "-   pooch\n",
    "-   pydicom\n",
    "-   nibabel"
   ]
  },
  {
   "cell_type": "markdown",
   "metadata": {},
   "source": [
    "## Importing Libraries"
   ]
  },
  {
   "cell_type": "markdown",
   "metadata": {},
   "source": [
    "There are multiple forms of importing a library (e.g., numpy) in python:\n",
    "1. Importing the library as it is:\n",
    "```python\n",
    "import numpy\n",
    "```\n",
    "2. Importing the library using an abbreviated form:\n",
    "```python\n",
    "import numpy as np\n",
    "```\n",
    "3. Importing all contents of a library:\n",
    "```python\n",
    "from numpy import *\n",
    "```\n",
    "4. Importing a specific function from a library:\n",
    "```python\n",
    "from numpy import arange\n",
    "```"
   ]
  }
 ],
 "metadata": {
  "colab": {
   "provenance": [],
   "toc_visible": true
  },
  "kernelspec": {
   "display_name": "python_bsc",
   "language": "python",
   "name": "python3"
  },
  "language_info": {
   "codemirror_mode": {
    "name": "ipython",
    "version": 3
   },
   "file_extension": ".py",
   "mimetype": "text/x-python",
   "name": "python",
   "nbconvert_exporter": "python",
   "pygments_lexer": "ipython3",
   "version": "3.11.9"
  }
 },
 "nbformat": 4,
 "nbformat_minor": 0
}
