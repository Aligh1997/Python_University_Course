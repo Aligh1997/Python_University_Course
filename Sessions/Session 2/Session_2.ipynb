{
  "cells": [
    {
      "cell_type": "markdown",
      "metadata": {
        "id": "avY__a4ioQSJ"
      },
      "source": [
        "# Python Programming Essentials Course"
      ]
    },
    {
      "cell_type": "markdown",
      "metadata": {
        "id": "h3qn31DqoXVg"
      },
      "source": [
        "👨🏻‍🏫 Instructor: **Ali Ghafari**\n",
        "\n",
        "📅 Date: *06/10/2024*"
      ]
    },
    {
      "cell_type": "markdown",
      "metadata": {
        "id": "PnPUzZJkpCLn"
      },
      "source": [
        "## Review: Session 1"
      ]
    },
    {
      "cell_type": "code",
      "execution_count": 1,
      "metadata": {},
      "outputs": [],
      "source": [
        "a = 10\n",
        "b = 20"
      ]
    },
    {
      "cell_type": "code",
      "execution_count": 2,
      "metadata": {},
      "outputs": [
        {
          "name": "stdout",
          "output_type": "stream",
          "text": [
            "0.5\n",
            "200\n",
            "30\n",
            "-10\n",
            "100000000000000000000\n",
            "2\n",
            "0\n"
          ]
        }
      ],
      "source": [
        "print(a / b)\n",
        "print(a * b)\n",
        "print(a + b)\n",
        "print(a - b)\n",
        "print(a ** b)\n",
        "print(b // a)\n",
        "print(b % a)"
      ]
    },
    {
      "cell_type": "code",
      "execution_count": 7,
      "metadata": {},
      "outputs": [
        {
          "name": "stdout",
          "output_type": "stream",
          "text": [
            "(13.5+4j)\n"
          ]
        }
      ],
      "source": [
        "a = 2 + 3j\n",
        "b = 3 - 2.5j\n",
        "c = a * b\n",
        "print(c)"
      ]
    },
    {
      "cell_type": "markdown",
      "metadata": {
        "id": "Ty_JWftfpFNf"
      },
      "source": [
        "## Session 2"
      ]
    },
    {
      "cell_type": "markdown",
      "metadata": {
        "id": "FXDBbQHeqdMH"
      },
      "source": [
        "### Data Types\n",
        "\n",
        "Supported data types in python (but not limited to!):\n",
        "\n",
        "\n",
        "*   Numeral (covered in session 1)\n",
        "*   Boolean\n",
        "*   String\n",
        "*   List\n",
        "*   Tuple\n",
        "*   Dictionary\n",
        "*   Set\n",
        "*   ...\n",
        "\n",
        "\n"
      ]
    },
    {
      "cell_type": "markdown",
      "metadata": {
        "id": "wVJxTISSrwrG"
      },
      "source": [
        "#### Boolean"
      ]
    },
    {
      "cell_type": "code",
      "execution_count": 12,
      "metadata": {
        "id": "whfG5-8Prtj2"
      },
      "outputs": [
        {
          "name": "stdout",
          "output_type": "stream",
          "text": [
            "False\n"
          ]
        }
      ],
      "source": [
        "e = True\n",
        "c = False\n",
        "print(e == c)"
      ]
    },
    {
      "cell_type": "markdown",
      "metadata": {
        "id": "kZXk2zu-sq3P"
      },
      "source": [
        "#### String"
      ]
    },
    {
      "cell_type": "code",
      "execution_count": 15,
      "metadata": {
        "id": "0jJ8Hqfesvw2"
      },
      "outputs": [
        {
          "name": "stdout",
          "output_type": "stream",
          "text": [
            "12531253\n",
            "<class 'str'>\n"
          ]
        }
      ],
      "source": [
        "my_name = '1253'\n",
        "print(my_name * 2)\n",
        "print(type(my_name))"
      ]
    },
    {
      "cell_type": "code",
      "execution_count": 18,
      "metadata": {},
      "outputs": [
        {
          "name": "stdout",
          "output_type": "stream",
          "text": [
            "Hasan Hasani\n"
          ]
        }
      ],
      "source": [
        "first_name = 'Hasan'\n",
        "last_name = 'Hasani'\n",
        "print(first_name + ' ' + last_name)"
      ]
    },
    {
      "cell_type": "code",
      "execution_count": 20,
      "metadata": {},
      "outputs": [
        {
          "name": "stdout",
          "output_type": "stream",
          "text": [
            "This is a sentence.\n"
          ]
        }
      ],
      "source": [
        "a = 'This is a sentence.'\n",
        "print(a)"
      ]
    },
    {
      "cell_type": "code",
      "execution_count": 22,
      "metadata": {},
      "outputs": [
        {
          "name": "stdout",
          "output_type": "stream",
          "text": [
            "This is a sentence. This is another sentence.\n"
          ]
        }
      ],
      "source": [
        "c = \"This is a sentence. This is another sentence.\"\n",
        "print(c)"
      ]
    },
    {
      "cell_type": "code",
      "execution_count": 25,
      "metadata": {},
      "outputs": [
        {
          "name": "stdout",
          "output_type": "stream",
          "text": [
            "It's a dog\n"
          ]
        }
      ],
      "source": [
        "a = \"It's a dog\"\n",
        "print(a)"
      ]
    },
    {
      "cell_type": "code",
      "execution_count": 28,
      "metadata": {},
      "outputs": [],
      "source": [
        "d = 'Salam'"
      ]
    },
    {
      "cell_type": "code",
      "execution_count": 34,
      "metadata": {},
      "outputs": [
        {
          "name": "stdout",
          "output_type": "stream",
          "text": [
            "Sala\n"
          ]
        }
      ],
      "source": [
        "print(d[:4])"
      ]
    }
  ],
  "metadata": {
    "colab": {
      "provenance": [],
      "toc_visible": true
    },
    "kernelspec": {
      "display_name": ".venv",
      "language": "python",
      "name": "python3"
    },
    "language_info": {
      "codemirror_mode": {
        "name": "ipython",
        "version": 3
      },
      "file_extension": ".py",
      "mimetype": "text/x-python",
      "name": "python",
      "nbconvert_exporter": "python",
      "pygments_lexer": "ipython3",
      "version": "3.11.9"
    }
  },
  "nbformat": 4,
  "nbformat_minor": 0
}
