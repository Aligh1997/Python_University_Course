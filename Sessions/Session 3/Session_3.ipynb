{
  "cells": [
    {
      "cell_type": "markdown",
      "metadata": {
        "id": "avY__a4ioQSJ"
      },
      "source": [
        "# Python Programming Essentials Course"
      ]
    },
    {
      "cell_type": "markdown",
      "metadata": {
        "id": "h3qn31DqoXVg"
      },
      "source": [
        "👨🏻‍🏫 Instructor: **Ali Ghafari**\n",
        "\n",
        "📅 Date: *13/10/2024*"
      ]
    },
    {
      "cell_type": "markdown",
      "metadata": {
        "id": "Ty_JWftfpFNf"
      },
      "source": [
        "## Session 3"
      ]
    },
    {
      "cell_type": "markdown",
      "metadata": {
        "id": "FXDBbQHeqdMH"
      },
      "source": [
        "### Data Types\n",
        "\n",
        "Supported data types in python (but not limited to!):\n",
        "\n",
        "\n",
        "*   Numeral (covered in session 1)\n",
        "*   Boolean (covered in session 2)\n",
        "*   String (covered in session 2)\n",
        "*   List\n",
        "*   Tuple\n",
        "*   Dictionary\n",
        "*   Set\n",
        "*   ...\n",
        "\n",
        "\n"
      ]
    },
    {
      "cell_type": "markdown",
      "metadata": {
        "id": "XA4VIzvUtERF"
      },
      "source": [
        "#### List"
      ]
    },
    {
      "cell_type": "code",
      "execution_count": 5,
      "metadata": {
        "id": "ytstAUOAsyOm"
      },
      "outputs": [],
      "source": [
        "y = 125\n",
        "x = [1, 2, 2.5, 'Hello', ['Salam'], 'Hello', y]"
      ]
    },
    {
      "cell_type": "code",
      "execution_count": 6,
      "metadata": {},
      "outputs": [
        {
          "name": "stdout",
          "output_type": "stream",
          "text": [
            "[1, 2, 2.5, 'Hello', ['Salam'], 'Hello', 125]\n"
          ]
        }
      ],
      "source": [
        "print(x)"
      ]
    },
    {
      "cell_type": "code",
      "execution_count": 15,
      "metadata": {},
      "outputs": [
        {
          "name": "stdout",
          "output_type": "stream",
          "text": [
            "[1, 2, 3]\n",
            "[1, 4, 3]\n"
          ]
        }
      ],
      "source": [
        "x = [1, 2, 3]\n",
        "print(x)\n",
        "x[1] = 4\n",
        "print(x)"
      ]
    },
    {
      "cell_type": "code",
      "execution_count": 23,
      "metadata": {},
      "outputs": [
        {
          "name": "stdout",
          "output_type": "stream",
          "text": [
            "[1, 2, 1, 2]\n"
          ]
        }
      ],
      "source": [
        "x = [1, 2]\n",
        "y = [3, 4]\n",
        "print(x * 2)"
      ]
    },
    {
      "cell_type": "markdown",
      "metadata": {
        "id": "2dbEM19LwLHt"
      },
      "source": [
        "#### Tuple"
      ]
    },
    {
      "cell_type": "code",
      "execution_count": 24,
      "metadata": {
        "id": "msssBq1CwKzN"
      },
      "outputs": [],
      "source": [
        "x = ('1', 2, 3)\n",
        "y = ('Salam', 'Aleik')"
      ]
    },
    {
      "cell_type": "code",
      "execution_count": 31,
      "metadata": {},
      "outputs": [
        {
          "data": {
            "text/plain": [
              "('1', 2, 3, 'Salam', 'Aleik')"
            ]
          },
          "execution_count": 31,
          "metadata": {},
          "output_type": "execute_result"
        }
      ],
      "source": [
        "x + y"
      ]
    },
    {
      "cell_type": "code",
      "execution_count": 30,
      "metadata": {},
      "outputs": [
        {
          "data": {
            "text/plain": [
              "('1', 2, 3, '1', 2, 3, '1', 2, 3)"
            ]
          },
          "execution_count": 30,
          "metadata": {},
          "output_type": "execute_result"
        }
      ],
      "source": [
        "x * 3 "
      ]
    },
    {
      "cell_type": "markdown",
      "metadata": {
        "id": "QjkOIX0WwNEV"
      },
      "source": [
        "#### Dictionary"
      ]
    },
    {
      "cell_type": "code",
      "execution_count": 40,
      "metadata": {
        "id": "OREy3pKvwNZN"
      },
      "outputs": [],
      "source": [
        "x = {1:'one',2:'two',3:'three',4:'four'}"
      ]
    },
    {
      "cell_type": "code",
      "execution_count": 42,
      "metadata": {},
      "outputs": [
        {
          "name": "stdout",
          "output_type": "stream",
          "text": [
            "{1: 'one', 2: 'two', 3: 'three', 4: 'four'}\n"
          ]
        }
      ],
      "source": [
        "print(x)"
      ]
    },
    {
      "cell_type": "code",
      "execution_count": 39,
      "metadata": {},
      "outputs": [
        {
          "data": {
            "text/plain": [
              "3"
            ]
          },
          "execution_count": 39,
          "metadata": {},
          "output_type": "execute_result"
        }
      ],
      "source": [
        "x['three']"
      ]
    },
    {
      "cell_type": "markdown",
      "metadata": {
        "id": "Qe3yog0YwQDU"
      },
      "source": [
        "#### Set"
      ]
    },
    {
      "cell_type": "code",
      "execution_count": 44,
      "metadata": {
        "id": "cUQbo0FGwRo0"
      },
      "outputs": [
        {
          "name": "stdout",
          "output_type": "stream",
          "text": [
            "{1, 2, 3, 4, 5}\n"
          ]
        }
      ],
      "source": [
        "x = {1,2,3,3,4,5,1}\n",
        "print(x)"
      ]
    },
    {
      "cell_type": "markdown",
      "metadata": {},
      "source": [
        "### Converting Data Types"
      ]
    },
    {
      "cell_type": "code",
      "execution_count": 47,
      "metadata": {},
      "outputs": [
        {
          "name": "stdout",
          "output_type": "stream",
          "text": [
            "1\n",
            "1.25\n"
          ]
        }
      ],
      "source": [
        "x = 1.25\n",
        "print(int(x))\n",
        "print(float(x))"
      ]
    },
    {
      "cell_type": "code",
      "execution_count": 50,
      "metadata": {},
      "outputs": [
        {
          "name": "stdout",
          "output_type": "stream",
          "text": [
            "1.25\n"
          ]
        }
      ],
      "source": [
        "print(str(x))"
      ]
    },
    {
      "cell_type": "code",
      "execution_count": 54,
      "metadata": {},
      "outputs": [],
      "source": [
        "x = 1\n",
        "y = 2.5"
      ]
    },
    {
      "cell_type": "code",
      "execution_count": 56,
      "metadata": {},
      "outputs": [
        {
          "data": {
            "text/plain": [
              "(1+2.5j)"
            ]
          },
          "execution_count": 56,
          "metadata": {},
          "output_type": "execute_result"
        }
      ],
      "source": [
        "complex(x, y)"
      ]
    }
  ],
  "metadata": {
    "colab": {
      "provenance": [],
      "toc_visible": true
    },
    "kernelspec": {
      "display_name": ".venv",
      "language": "python",
      "name": "python3"
    },
    "language_info": {
      "codemirror_mode": {
        "name": "ipython",
        "version": 3
      },
      "file_extension": ".py",
      "mimetype": "text/x-python",
      "name": "python",
      "nbconvert_exporter": "python",
      "pygments_lexer": "ipython3",
      "version": "3.11.9"
    }
  },
  "nbformat": 4,
  "nbformat_minor": 0
}
