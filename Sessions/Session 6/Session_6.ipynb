{
 "cells": [
  {
   "cell_type": "markdown",
   "metadata": {
    "id": "avY__a4ioQSJ"
   },
   "source": [
    "# Python Programming Essentials Course"
   ]
  },
  {
   "cell_type": "markdown",
   "metadata": {
    "id": "h3qn31DqoXVg"
   },
   "source": [
    "👨🏻‍🏫 Instructor: **Ali Ghafari**\n",
    "\n",
    "📅 Date: *17/11/2024*"
   ]
  },
  {
   "cell_type": "markdown",
   "metadata": {
    "id": "Ty_JWftfpFNf"
   },
   "source": [
    "## Session 6"
   ]
  },
  {
   "cell_type": "markdown",
   "metadata": {},
   "source": [
    "### Conditional Statements"
   ]
  },
  {
   "cell_type": "code",
   "execution_count": 4,
   "metadata": {},
   "outputs": [
    {
     "name": "stdout",
     "output_type": "stream",
     "text": [
      "You pass!\n",
      "Finish!\n"
     ]
    }
   ],
   "source": [
    "passing_value = 10\n",
    "score = 10.25\n",
    "if score >= passing_value:\n",
    "    print('You pass!')\n",
    "else:\n",
    "    print('You fail!')\n",
    "print('Finish!')"
   ]
  },
  {
   "cell_type": "code",
   "execution_count": 6,
   "metadata": {},
   "outputs": [
    {
     "name": "stdout",
     "output_type": "stream",
     "text": [
      "The value is devisable by 6\n"
     ]
    }
   ],
   "source": [
    "value = 12\n",
    "if (value % 3) == 0:\n",
    "    if (value % 2) == 0:\n",
    "        print('The value is devisable by 6')\n",
    "    else:\n",
    "        print('The value is devisable by 3 and not by 2')\n",
    "else:\n",
    "    print('The value is not devisable by 3')"
   ]
  },
  {
   "cell_type": "code",
   "execution_count": 14,
   "metadata": {},
   "outputs": [
    {
     "name": "stdout",
     "output_type": "stream",
     "text": [
      "The value is devisable by 6\n",
      "The value is devisable by 7\n",
      "The value is devisable by 5\n"
     ]
    }
   ],
   "source": [
    "value = 210\n",
    "if (value % 3) == 0:\n",
    "    if (value % 2) == 0:\n",
    "        print('The value is devisable by 6')\n",
    "    else:\n",
    "        print('The value is devisable by 3 and not by 2')\n",
    "if (value % 7) == 0:\n",
    "    print('The value is devisable by 7')\n",
    "if (value % 5) == 0:\n",
    "    print('The value is devisable by 5')\n",
    "else:\n",
    "    print('The value is not devisable by 3, 7, and 5!')"
   ]
  },
  {
   "cell_type": "code",
   "execution_count": 16,
   "metadata": {},
   "outputs": [
    {
     "name": "stdout",
     "output_type": "stream",
     "text": [
      "The value is devisable by 6\n",
      "The value is devisable by 7\n",
      "The value is devisable by 5\n"
     ]
    }
   ],
   "source": [
    "value = 210\n",
    "if (value % 3) == 0 and (value % 2) == 0:\n",
    "    print('The value is devisable by 6')\n",
    "if (value % 7) == 0:\n",
    "    print('The value is devisable by 7')\n",
    "if (value % 5) == 0:\n",
    "    print('The value is devisable by 5')\n",
    "else:\n",
    "    print('The value is not devisable by 3, 7, and 5!')"
   ]
  },
  {
   "cell_type": "code",
   "execution_count": null,
   "metadata": {},
   "outputs": [],
   "source": []
  },
  {
   "cell_type": "markdown",
   "metadata": {},
   "source": [
    "### Loops"
   ]
  },
  {
   "cell_type": "markdown",
   "metadata": {},
   "source": [
    "#### for-loops"
   ]
  },
  {
   "cell_type": "code",
   "execution_count": 19,
   "metadata": {},
   "outputs": [
    {
     "name": "stdout",
     "output_type": "stream",
     "text": [
      "1\n",
      "2\n",
      "3\n",
      "2\n",
      "4\n",
      "6\n",
      "3\n",
      "6\n",
      "9\n"
     ]
    }
   ],
   "source": [
    "for x in [1, 2, 3]:\n",
    "    print(x)\n",
    "    print(x * 2)\n",
    "    print(x * 3)"
   ]
  },
  {
   "cell_type": "markdown",
   "metadata": {},
   "source": [
    "while-loops"
   ]
  },
  {
   "cell_type": "code",
   "execution_count": null,
   "metadata": {},
   "outputs": [
    {
     "name": "stdout",
     "output_type": "stream",
     "text": [
      "1\n",
      "3\n",
      "5\n"
     ]
    }
   ],
   "source": [
    "for i in range(1, 6, 2):   \n",
    "    print(i)"
   ]
  },
  {
   "cell_type": "code",
   "execution_count": 30,
   "metadata": {},
   "outputs": [
    {
     "name": "stdout",
     "output_type": "stream",
     "text": [
      "7\n",
      "14\n",
      "21\n",
      "28\n",
      "35\n",
      "42\n",
      "49\n",
      "56\n",
      "63\n",
      "70\n",
      "77\n",
      "84\n",
      "91\n",
      "98\n"
     ]
    }
   ],
   "source": [
    "list_1 = []\n",
    "for i in range(1, 101):\n",
    "    if i % 7 == 0:\n",
    "        print(i)\n",
    "        list_1.append(i)"
   ]
  },
  {
   "cell_type": "code",
   "execution_count": null,
   "metadata": {},
   "outputs": [
    {
     "data": {
      "text/plain": [
       "14"
      ]
     },
     "execution_count": 31,
     "metadata": {},
     "output_type": "execute_result"
    }
   ],
   "source": [
    "len(list_1)"
   ]
  },
  {
   "cell_type": "code",
   "execution_count": null,
   "metadata": {},
   "outputs": [
    {
     "name": "stdout",
     "output_type": "stream",
     "text": [
      "7\n",
      "14\n",
      "21\n",
      "28\n",
      "35\n",
      "42\n",
      "49\n",
      "56\n",
      "63\n",
      "70\n",
      "77\n",
      "84\n",
      "91\n",
      "98\n"
     ]
    }
   ],
   "source": [
    "# Exercise\n",
    "list_2 = []\n",
    "i = 1\n",
    "while (i <= 100):\n",
    "    if i % 7 == 0:\n",
    "        list_2.append(i)\n",
    "        print(i)\n",
    "    i += 1"
   ]
  }
 ],
 "metadata": {
  "colab": {
   "provenance": [],
   "toc_visible": true
  },
  "kernelspec": {
   "display_name": "python_bsc",
   "language": "python",
   "name": "python3"
  },
  "language_info": {
   "codemirror_mode": {
    "name": "ipython",
    "version": 3
   },
   "file_extension": ".py",
   "mimetype": "text/x-python",
   "name": "python",
   "nbconvert_exporter": "python",
   "pygments_lexer": "ipython3",
   "version": "3.11.9"
  }
 },
 "nbformat": 4,
 "nbformat_minor": 0
}
